{
 "cells": [
  {
   "cell_type": "markdown",
   "metadata": {},
   "source": [
    "# Training on a “large” dataset with the IncrementalSearchCV"
   ]
  },
  {
   "cell_type": "code",
   "execution_count": null,
   "metadata": {},
   "outputs": [],
   "source": [
    "from dask.distributed import Client\n",
    "\n",
    "client = Client()\n",
    "\n",
    "import numpy as np\n",
    "\n",
    "from dask_ml.datasets import make_classification\n",
    "\n",
    "X, y = make_classification(n_samples=5000000, n_features=20, chunks=100000, random_state=0)\n"
   ]
  },
  {
   "cell_type": "markdown",
   "metadata": {},
   "source": [
    "Our underlying estimator is an SGDClassifier."
   ]
  },
  {
   "cell_type": "code",
   "execution_count": null,
   "metadata": {},
   "outputs": [],
   "source": [
    "from sklearn.linear_model import SGDClassifier\n",
    "\n",
    "model = SGDClassifier(tol=1e-3, penalty='elasticnet', random_state=0)"
   ]
  },
  {
   "cell_type": "markdown",
   "metadata": {},
   "source": [
    "We also define the distribution of parameters from which we will sample:"
   ]
  },
  {
   "cell_type": "code",
   "execution_count": null,
   "metadata": {},
   "outputs": [],
   "source": [
    "params = {'alpha': np.logspace(-2, 1, num=1000),\n",
    "          'l1_ratio': np.linspace(0, 1, num=1000),\n",
    "          'average': [True, False]}\n"
   ]
  },
  {
   "cell_type": "markdown",
   "metadata": {},
   "source": [
    "Finally we create many random models in this parameter space and train-and-score them until we find the best one."
   ]
  },
  {
   "cell_type": "code",
   "execution_count": null,
   "metadata": {},
   "outputs": [],
   "source": [
    "from dask_ml.model_selection import IncrementalSearchCV\n",
    "\n",
    "search = IncrementalSearchCV(model, params, random_state=0)\n",
    "\n",
    "search.fit(X, y, classes=[0, 1])"
   ]
  },
  {
   "cell_type": "markdown",
   "metadata": {},
   "source": [
    "Note that when we do post-fit tasks like search.score, the underlying estimator’s score method is used. If that is unable to handle a larger-than-memory Dask Array, we’ll exhaust our machines memory. If we plan to use post-estimation features like scoring or prediction, it is recommended to use dask_ml.wrappers.ParallelPostFit.\n",
    "\n"
   ]
  },
  {
   "cell_type": "code",
   "execution_count": null,
   "metadata": {},
   "outputs": [],
   "source": [
    "from dask_ml.wrappers import ParallelPostFit\n",
    "\n",
    "params = {'estimator__alpha': np.logspace(-2, 1, num=1000),\n",
    "                'estimator__l1_ratio': np.linspace(0, 1, num=1000),\n",
    "                'estimator__average': [True, False]}\n",
    "\n",
    "\n",
    "model = ParallelPostFit(SGDClassifier(tol=1e-3,\n",
    "                                      penalty=\"elasticnet\",\n",
    "                                      random_state=0))\n",
    "\n",
    "\n",
    "search = IncrementalSearchCV(model, params, random_state=0)\n",
    "\n",
    "search.fit(X, y, classes=[0, 1])"
   ]
  },
  {
   "cell_type": "code",
   "execution_count": null,
   "metadata": {},
   "outputs": [],
   "source": [
    "search.score(X, y)"
   ]
  },
  {
   "cell_type": "code",
   "execution_count": null,
   "metadata": {},
   "outputs": [],
   "source": []
  }
 ],
 "metadata": {
  "kernelspec": {
   "display_name": "Python 3",
   "language": "python",
   "name": "python3"
  },
  "language_info": {
   "codemirror_mode": {
    "name": "ipython",
    "version": 3
   },
   "file_extension": ".py",
   "mimetype": "text/x-python",
   "name": "python",
   "nbconvert_exporter": "python",
   "pygments_lexer": "ipython3",
   "version": "3.6.8"
  }
 },
 "nbformat": 4,
 "nbformat_minor": 2
}
